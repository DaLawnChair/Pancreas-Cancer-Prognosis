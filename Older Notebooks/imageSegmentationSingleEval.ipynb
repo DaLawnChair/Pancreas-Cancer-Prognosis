{
 "cells": [
  {
   "cell_type": "markdown",
   "metadata": {},
   "source": [
    "## Perform preprocessing on a single image"
   ]
  },
  {
   "cell_type": "code",
   "execution_count": 1,
   "metadata": {},
   "outputs": [],
   "source": [
    "import nrrd \n",
    "import numpy as np\n",
    "import matplotlib.pyplot as plt\n",
    "import matplotlib \n",
    "import cv2\n",
    "import scipy\n",
    "\n",
    "import SimpleITK as sitk \n",
    "import os \n",
    "\n",
    "import ipynb \n",
    "\n",
    "import statistics\n",
    "\n",
    "# import ipynb.fs.full.imageSubtraction \n",
    "from imageSubtractionFunctions import *\n",
    "# %run imageSubtraction.ipynb\n"
   ]
  },
  {
   "cell_type": "code",
   "execution_count": 2,
   "metadata": {},
   "outputs": [],
   "source": [
    "def convertNdArrayToCV2Image(image, resolution = (64,64)):\n",
    "    \"\"\" Converts a numpy array to a cv2 image \"\"\"\n",
    "    image = np.array(image, dtype=np.uint8)\n",
    "    image = cv2.resize(image, resolution)\n",
    "    return image\n",
    "\n",
    "def makeAlign(image1,image2):\n",
    "    image1.SetDirection(image2.GetDirection())\n",
    "    image1.SetOrigin(image2.GetOrigin())\n",
    "    image1.SetSpacing(image2.GetSpacing())\n",
    "    return image1, image2\n",
    "\n",
    "def isAligned(image1, image2):\n",
    "    return image1.GetDirection() == image2.GetDirection() and image1.GetOrigin() == image2.GetOrigin() and image1.GetSpacing() == image2.GetSpacing()   \n",
    "\n",
    "def resampleSizes(wholeHeader, segmentHeader):\n",
    "    \"\"\" \n",
    "    Resamples the sitk image to have the same size based on the one with the largest size.\n",
    "    \"\"\"\n",
    "    if wholeHeader.GetSize()[-1] >= segmentHeader.GetSize()[-1]:\n",
    "        imageLarge = wholeHeader\n",
    "        imageSmall = segmentHeader\n",
    "        wholeThenSegmentOrder = True\n",
    "    else:\n",
    "        imageLarge = segmentHeader\n",
    "        imageSmall = wholeHeader \n",
    "        wholeThenSegmentOrder = False\n",
    "\n",
    "    resample = sitk.ResampleImageFilter()\n",
    "    resample.SetReferenceImage(imageLarge)  \n",
    "    resample.SetInterpolator(sitk.sitkLinear)  # Choose the interpolation method (sitkLinear, sitkNearestNeighbor, etc.)\n",
    "    resample.SetDefaultPixelValue(0)  # Set default pixel value for areas outside the original image\n",
    "\n",
    "    imageSmall = resample.Execute(imageSmall)\n",
    "\n",
    "    print(f'imageLarge: {imageLarge.GetSize()}')\n",
    "    print(f'imageSmall: {imageSmall.GetSize()}')\n",
    "    \n",
    "\n",
    "    if wholeThenSegmentOrder:\n",
    "        return imageLarge, imageSmall # whole, then segment\n",
    "    else:\n",
    "        return imageSmall, imageLarge # segment, then whole"
   ]
  },
  {
   "cell_type": "code",
   "execution_count": 3,
   "metadata": {},
   "outputs": [],
   "source": [
    "def preprocess(wholeHeader, segmentHeader, verbose=True):\n",
    "    \"\"\"\n",
    "    Preprocesses the wholeHeader and segmentHeader sitk images to be ready for augmentation \n",
    "    Verbose = 0: No output\n",
    "    Verbose = 1: Only the CT scans slices and the array of slices it uses\n",
    "    Verbose = 2: Everything\n",
    "    Verbose = 3: Show the segment mask on top of the whole CT scan\n",
    "\n",
    "    Returns: a np array windowed whole image, a np array cropped segment image to 64x64x[] resolution, and boolean error flag.\n",
    "    \"\"\"\n",
    "    error = False # Error flag to check if there was an error in the preprocessing\n",
    "\n",
    "    # Check if the images are aligned\n",
    "    wholeHeader, segmentHeader = makeAlign(wholeHeader, segmentHeader)\n",
    "    imagesAreAligned = isAligned(wholeHeader, segmentHeader)\n",
    "    print(f'Are the two images aligned now?: {imagesAreAligned}' if verbose==2 else '',end='')\n",
    "\n",
    "    if not imagesAreAligned:\n",
    "        error = True\n",
    "        return None, None, True\n",
    "    \n",
    "    # Set the spacing of the image to 1x1x1mm voxel spacing\n",
    "    wholeHeader.SetSpacing([1,1,1])\n",
    "    segmentHeader.SetSpacing([1,1,1])\n",
    "    imagesSpacingAligned = wholeHeader.GetSpacing() == segmentHeader.GetSpacing() \n",
    "    print(f'Are the two images aligned in terms of spacing?: {imagesSpacingAligned}' if verbose==2 else '',end='')\n",
    "\n",
    "    if not imagesSpacingAligned:\n",
    "        error = True\n",
    "        return None, None, True\n",
    "    \n",
    "\n",
    "    imagesSizeAligned = wholeHeader.GetSize() == segmentHeader.GetSize() \n",
    "    print(f'Are the two images aligned in terms of size?: {imagesSizeAligned}' if verbose==2 else '',end='')\n",
    "\n",
    "    if not imagesSizeAligned:\n",
    "        wholeHeader, segmentHeader = resampleSizes(wholeHeader, segmentHeader)\n",
    "        print(f'whole size: {wholeHeader.GetSize()}')\n",
    "        print(f'segment size: {segmentHeader.GetSize()}')\n",
    "        imagesSizeAligned = wholeHeader.GetSize() == segmentHeader.GetSize() \n",
    "        print(f'Are the two images aligned in terms of size now?: {imagesSizeAligned}' if verbose==2 else '',end='')\n",
    "        if not imagesSizeAligned:\n",
    "            error = True\n",
    "            return None, None, True\n",
    "\n",
    "\n",
    "    \n",
    "    # Convert the images into numpy arrays for further processing, take the transpose as the format is z,y,x\n",
    "    whole = sitk.GetArrayFromImage(wholeHeader).T\n",
    "    segment = sitk.GetArrayFromImage(segmentHeader).T\n",
    "\n",
    "\n",
    "\n",
    "    print(f'Spacing of whole:{whole.shape}' if verbose==2 else '',end='')\n",
    "    print(f'Spacing of segment:{segment.shape}' if verbose==2 else '',end='')\n",
    "    \n",
    "    # Windowing parameters for the abdomen\n",
    "    ABDOMEN_UPPER_BOUND = 215\n",
    "    ABDOMEN_LOWER_BOUND = -135\n",
    "    window_center = (ABDOMEN_UPPER_BOUND+ABDOMEN_LOWER_BOUND) / 2\n",
    "    window_width = (ABDOMEN_UPPER_BOUND-ABDOMEN_LOWER_BOUND) / 2\n",
    "\n",
    "    # Window and resample the whole image\n",
    "    augmented_whole = window_image_to_adbomen(whole, window_center, window_width)\n",
    "\n",
    "    # Resample the segment image to the same spacing as the whole image\n",
    "    augmented_segment = segment\n",
    "\n",
    "    # Get the slice indices where the segment is present in \n",
    "    segmentedSlices = [] \n",
    "    for index in range(augmented_segment.shape[-1]):\n",
    "        if len(np.unique(augmented_segment[:,:,index])) > 1:\n",
    "            segmentedSlices.append(index)\n",
    "\n",
    "    print(f'Segment slice indices:{segmentedSlices}' if verbose==2 else '',end='')\n",
    "\n",
    "    overlay_segment = augmented_whole * augmented_segment\n",
    "    \n",
    "    # print(overlay_segment.shape)\n",
    "    # print(\"Dimension of the CT scan is:\", image.shape)\n",
    "    # plt.imshow(overlay_segment[:, :, 133], cmap=\"gray\")\n",
    "\n",
    "    croppedSegment = centerXYOfImage(overlay_segment,augmented_segment,segmentedSlices) # Crop the image to the center of the segmented region\n",
    "\n",
    "    croppedSegment[croppedSegment<0.0001]=0 # Window the image so that the background is completely black for all slices\n",
    "    \n",
    "    croppedSegment = convertNdArrayToCV2Image(croppedSegment)\n",
    "\n",
    "    if verbose==1 or verbose==2:\n",
    "        print(f'CroppedSegment shape: {croppedSegment.shape}')\n",
    "        # Display the segmented image slices \n",
    "\n",
    "        columnLen = 10\n",
    "        rowLen = max(2,croppedSegment.shape[-1] // columnLen + 1) \n",
    "        figure,axis = plt.subplots( rowLen, columnLen, figsize=(10, 10))\n",
    "        \n",
    "        rowIdx = 0\n",
    "        for idx in range(croppedSegment.shape[-1]):        \n",
    "            if idx%columnLen == 0 and idx>0:\n",
    "                rowIdx += 1\n",
    "            axis[rowIdx][idx%columnLen].imshow(croppedSegment[:,:,idx], cmap=\"gray\")\n",
    "            axis[rowIdx][idx%columnLen].axis('off')\n",
    "\n",
    "        # Turn off the axis of the rest of the subplots\n",
    "        for i in range(idx+1, rowLen*columnLen):\n",
    "            if i%columnLen == 0:\n",
    "                rowIdx += 1\n",
    "            axis[rowIdx][i%columnLen].axis('off')\n",
    "        \n",
    "        # plt.subplots_adjust(wspace=0, hspace=0)\n",
    "        plt.show()\n",
    "    elif verbose==3:\n",
    "        maskedWhole = np.ma.masked_where(augmented_segment==1, augmented_whole)\n",
    "\n",
    "        print(f'CroppedSegment shape: {croppedSegment.shape}')\n",
    "        # Display the segmented image slices \n",
    "\n",
    "        columnLen = 10\n",
    "        rowLen = max(2,croppedSegment.shape[-1] // columnLen + 1) \n",
    "        figure,axis = plt.subplots( rowLen, columnLen, figsize=(48, 48))\n",
    "        rowIdx = 0\n",
    "        for idx in range(len(segmentedSlices)):        \n",
    "            if idx%columnLen == 0 and idx>0:\n",
    "                rowIdx += 1\n",
    "            axis[rowIdx][idx%columnLen].imshow(augmented_whole[:,:,segmentedSlices[idx]], cmap=\"gray\")\n",
    "            axis[rowIdx][idx%columnLen].imshow(augmented_segment[:,:,segmentedSlices[idx]], cmap=\"Blues\", alpha=0.75)\n",
    "            axis[rowIdx][idx%columnLen].axis('off')\n",
    "\n",
    "        # Turn off the axis of the rest of the subplots\n",
    "        for i in range(idx+1, rowLen*columnLen):\n",
    "            if i%columnLen == 0:\n",
    "                rowIdx += 1\n",
    "            axis[rowIdx][i%columnLen].axis('off')\n",
    "        \n",
    "        # plt.subplots_adjust(wspace=0, hspace=0)\n",
    "        plt.show()\n",
    "\n",
    "    return whole, croppedSegment, error"
   ]
  },
  {
   "cell_type": "code",
   "execution_count": 7,
   "metadata": {},
   "outputs": [
    {
     "name": "stdout",
     "output_type": "stream",
     "text": [
      "CroppedSegment shape: (64, 64, 12)\n"
     ]
    },
    {
     "data": {
      "image/png": "[encoded data removed]",
      "text/plain": [
       "<Figure size 1000x1000 with 20 Axes>"
      ]
     },
     "metadata": {},
     "output_type": "display_data"
    }
   ],
   "source": [
    "# baseFilepath = 'PDAC-Response/PDAC-Response/ImagingData/Pre-treatment/CASE481_empty'\n",
    "# segmentFilePath = baseFilepath + '/CASE481_BASE_PRT_TUM_CV.seg.nrrd'\n",
    "# wholeFilePath = baseFilepath + '/CASE481_BASE_PRT_WHOLE_CT.nrrd' \n",
    "# whole, wholeHeader = nrrd.read(wholeFilePath)\n",
    "# segment, segmentHeader = nrrd.read(segmentFilePath)\n",
    "\n",
    "allFolders = ['CASE244', 'CASE246', 'CASE247', 'CASE251', 'CASE254', 'CASE256', 'CASE264', 'CASE265', 'CASE270', 'CASE272', 'CASE274', \n",
    "              'CASE467', 'CASE468', 'CASE470', 'CASE471', 'CASE472', 'CASE479', 'CASE480', 'CASE482', 'CASE484', 'CASE485', 'CASE494', 'CASE496', 'CASE499', \n",
    "              'CASE500', 'CASE505', 'CASE515', 'CASE520', 'CASE523', 'CASE531', 'CASE533', 'CASE534', 'CASE535', 'CASE541', 'CASE543', 'CASE546', 'CASE547', 'CASE548', 'CASE549', 'CASE550', 'CASE551', 'CASE554', 'CASE555', 'CASE557', 'CASE559', 'CASE560', 'CASE562', 'CASE563', 'CASE565', 'CASE568', 'CASE569', 'CASE572', 'CASE574', 'CASE575', 'CASE577', 'CASE578', 'CASE580', 'CASE581', 'CASE585', 'CASE586', 'CASE587', 'CASE588', 'CASE589', 'CASE593', 'CASE594', 'CASE596', 'CASE598', \n",
    "              'CASE600', 'CASE602', 'CASE603', 'CASE604', 'CASE605', 'CASE608', 'CASE610', 'CASE611', 'CASE615', 'CASE616', 'CASE622', 'CASE623', 'CASE624', 'CASE630', 'CASE632', 'CASE635']\n",
    "alreadySeem=[]\n",
    "# alreadySeem=['CASE244', 'CASE246', 'CASE247', 'CASE251', 'CASE254', 'CASE256', 'CASE264', 'CASE265', 'CASE270', 'CASE272', 'CASE274', \n",
    "#               'CASE467', 'CASE468', 'CASE470', 'CASE471', 'CASE472', 'CASE479', 'CASE480', 'CASE482', 'CASE484', 'CASE485', 'CASE494', 'CASE496', 'CASE499', \n",
    "#               'CASE500', 'CASE505', 'CASE515', 'CASE520']\n",
    "# alreadySeem = ['CASE244', 'CASE246', 'CASE247', 'CASE251', 'CASE254', 'CASE256', 'CASE263', 'CASE264', 'CASE265', 'CASE270', 'CASE272', 'CASE274', \n",
    "#  'CASE467', 'CASE468', 'CASE470', 'CASE471', 'CASE472', 'CASE476', 'CASE479', 'CASE480', 'CASE481_empty', 'CASE482', 'CASE484', 'CASE485', 'CASE488', 'CASE494', 'CASE496', 'CASE499', \n",
    "#  'CASE500', 'CASE505', 'CASE515', 'CASE520', 'CASE523', 'CASE525', 'CASE531', 'CASE533', 'CASE534', 'CASE535', 'CASE537', 'CASE539', 'CASE541', 'CASE543', 'CASE546', 'CASE547', 'CASE548', 'CASE549', 'CASE550', 'CASE551', 'CASE554', 'CASE555', 'CASE557', 'CASE559', 'CASE560', 'CASE562', 'CASE563', 'CASE564', 'CASE565', 'CASE568', 'CASE569', 'CASE572', 'CASE574', 'CASE575', 'CASE577', 'CASE578', 'CASE580', 'CASE581', 'CASE585', 'CASE586', 'CASE587', 'CASE588', 'CASE589', 'CASE593', 'CASE594', 'CASE596', 'CASE598', \n",
    "#  'CASE600', 'CASE601', 'CASE602', 'CASE603', 'CASE604', 'CASE605', 'CASE608', 'CASE610', 'CASE611', 'CASE615', 'CASE616', 'CASE621', 'CASE622', 'CASE623', 'CASE624', 'CASE629']\n",
    "baseFilepath = 'PDAC-Response/PDAC-Response/ImagingData/Pre-treatment-only-pres/'\n",
    "\n",
    "successes=0\n",
    "\n",
    "numberOfSlices = {}\n",
    "\n",
    "      \n",
    "# # For a single case\n",
    "preSegmentHeader = sitk.ReadImage(os.path.join(baseFilepath,'CASE578/CASE578_BASE_PRT_TUM_HK.seg.nrrd'))\n",
    "wholeHeader = sitk.ReadImage(os.path.join(baseFilepath,'CASE578/CASE578_BASE_PRT_WHOLE_CT.nrrd'))\n",
    "\n",
    "whole, croppedSegment,error = preprocess(wholeHeader, preSegmentHeader, verbose=1) \n",
    "\n",
    "\n",
    "if error:\n",
    "    print('Error in preprocessing')\n",
    "\n"
   ]
  },
  {
   "cell_type": "code",
   "execution_count": 14,
   "metadata": {},
   "outputs": [
    {
     "name": "stdout",
     "output_type": "stream",
     "text": [
      "(512, 512, 180)\n",
      "[35, 36, 37, 38, 39, 40, 41, 42, 43]\n"
     ]
    }
   ],
   "source": [
    "preSegment = sitk.GetArrayFromImage(preSegmentHeader)\n",
    "\n",
    "preSegment = preSegment.T\n",
    "print(preSegment.shape)\n",
    "\n",
    "segmentedSlices = [] \n",
    "for index in range(preSegment.shape[-1]):\n",
    "    if len(np.unique(preSegment[:,:,index])) > 1:\n",
    "        segmentedSlices.append(index)\n",
    "\n",
    "print(segmentedSlices)"
   ]
  },
  {
   "cell_type": "code",
   "execution_count": 16,
   "metadata": {},
   "outputs": [
    {
     "name": "stdout",
     "output_type": "stream",
     "text": [
      "(512, 512, 180)\n",
      "[]\n"
     ]
    }
   ],
   "source": [
    "wholeSegment = sitk.GetArrayFromImage(wholeHeader)\n",
    "\n",
    "wholeSegment = wholeSegment.T\n",
    "print(preSegment.shape)\n",
    "\n",
    "segmentedSlices = [] \n",
    "for index in range(wholeSegment.shape[-1]):\n",
    "    if len(np.unique(wholeSegment[:,:,index])) > 1:\n",
    "        segmentedSlices.append(index)\n",
    "\n",
    "print(segmentedSlices)"
   ]
  },
  {
   "cell_type": "code",
   "execution_count": 15,
   "metadata": {},
   "outputs": [
    {
     "data": {
      "text/plain": [
       "<matplotlib.image.AxesImage at 0x1e650ab7ca0>"
      ]
     },
     "execution_count": 15,
     "metadata": {},
     "output_type": "execute_result"
    },
    {
     "data": {
      "image/png": "[encoded data removed]",
      "text/plain": [
       "<Figure size 640x480 with 1 Axes>"
      ]
     },
     "metadata": {},
     "output_type": "display_data"
    }
   ],
   "source": [
    "plt.imshow(preSegment[:,:,35], cmap=\"gray\")"
   ]
  }
 ],
 "metadata": {
  "kernelspec": {
   "display_name": "research",
   "language": "python",
   "name": "python3"
  },
  "language_info": {
   "codemirror_mode": {
    "name": "ipython",
    "version": 3
   },
   "file_extension": ".py",
   "mimetype": "text/x-python",
   "name": "python",
   "nbconvert_exporter": "python",
   "pygments_lexer": "ipython3",
   "version": "3.8.19"
  }
 },
 "nbformat": 4,
 "nbformat_minor": 2
}
